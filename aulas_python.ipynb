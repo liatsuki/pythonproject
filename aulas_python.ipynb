{
  "nbformat": 4,
  "nbformat_minor": 0,
  "metadata": {
    "colab": {
      "provenance": [],
      "authorship_tag": "ABX9TyMZSqehSAeOtcf5R0TV4jbD",
      "include_colab_link": true
    },
    "kernelspec": {
      "name": "python3",
      "display_name": "Python 3"
    },
    "language_info": {
      "name": "python"
    }
  },
  "cells": [
    {
      "cell_type": "markdown",
      "metadata": {
        "id": "view-in-github",
        "colab_type": "text"
      },
      "source": [
        "<a href=\"https://colab.research.google.com/github/liatsuki/pythonproject/blob/master/aulas_python.ipynb\" target=\"_parent\"><img src=\"https://colab.research.google.com/assets/colab-badge.svg\" alt=\"Open In Colab\"/></a>"
      ]
    },
    {
      "cell_type": "markdown",
      "source": [
        "# Aula #02 - Geral\n"
      ],
      "metadata": {
        "id": "QWrQZdK5QO1C"
      }
    },
    {
      "cell_type": "markdown",
      "source": [
        "**Criado:** 1982 </br>\n",
        "**por:** Guido Van Hossum </br>\n",
        "**História:** em 1989 quando estava a tentar adaptar um programa em linguagem C, então criou uma linguagem para resolver o problema. Dai surgiu a proposta da criação da linguagem Python. </br>\n",
        "**Objectivo:** criar uma linguagem de programação que fosse interpretado, mas que tivesse comandos simples, fáceis de entender, porque segundo o criador a linguagem em C eram comandos grandes, complicados de entender, apenas os programadores experientes eram capazes de entender certos programas em C. O objectivo era criar comandos simples de fácil de compreender. </br>\n",
        "**Nome:** inspirado em *Monty Python's Flying* "
      ],
      "metadata": {
        "id": "hV-0un8wQvLO"
      }
    },
    {
      "cell_type": "markdown",
      "source": [
        "# Aula 05"
      ],
      "metadata": {
        "id": "ztpDq6Vmd2IQ"
      }
    },
    {
      "cell_type": "code",
      "source": [
        "print('Olá mundo!')"
      ],
      "metadata": {
        "id": "WnqHM7eyfZY9"
      },
      "execution_count": null,
      "outputs": []
    },
    {
      "cell_type": "code",
      "source": [
        "nome = input('Qual é o seu nome?')\n",
        "print ('É um grande prazer te conhecer', nome)"
      ],
      "metadata": {
        "id": "b8Y_R6DRffa5"
      },
      "execution_count": null,
      "outputs": []
    }
  ]
}