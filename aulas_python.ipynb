{
  "cells": [
    {
      "cell_type": "markdown",
      "metadata": {
        "colab_type": "text",
        "id": "view-in-github"
      },
      "source": [
        "<a href=\"https://colab.research.google.com/github/liatsuki/pythonproject/blob/master/aulas_python.ipynb\" target=\"_parent\"><img src=\"https://colab.research.google.com/assets/colab-badge.svg\" alt=\"Open In Colab\"/></a>"
      ]
    },
    {
      "cell_type": "markdown",
      "metadata": {
        "id": "QWrQZdK5QO1C"
      },
      "source": [
        "# Aula #02 - Geral\n"
      ]
    },
    {
      "cell_type": "markdown",
      "metadata": {
        "id": "hV-0un8wQvLO"
      },
      "source": [
        "#### **Informações Gerais**\n",
        "##### **Criado:** 1982 \n",
        "##### **por:** Guido Van Hossum\n",
        "##### **História:** em 1989 quando estava a tentar adaptar um programa em linguagem C, então criou uma linguagem para resolver o problema. Dai surgiu a proposta da criação da linguagem Python.\n",
        "##### **Objectivo:** criar uma linguagem de programação que fosse interpretado, mas que tivesse comandos simples, fáceis de entender, porque segundo o criador a linguagem em C eram comandos grandes, complicados de entender, apenas os programadores experientes eram capazes de entender certos programas em C. O objectivo era criar comandos simples de fácil de compreender.\n",
        "##### **Nome:** inspirado em *Monty Python's Flying*"
      ]
    },
    {
      "cell_type": "markdown",
      "metadata": {
        "id": "bsisDmrV-YoG"
      },
      "source": [
        "**Python é:**\n",
        "* Linguagem de propósito geral - dá pra usar a linguagem no geral\n",
        "* Fácil e intuitivo - comandos simples\n",
        "* Multiplataforma - dá pra usar em vários sistemas\n",
        "* Batterias included\n",
        "* Livre - código aberto\n",
        "* Organizada\n",
        "* Orientada a objectos - tudo dentro do python é um objecto\n",
        "* Muitas bibliotecas"
      ]
    },
    {
      "cell_type": "markdown",
      "metadata": {
        "id": "3gWOZvo6BRJ_"
      },
      "source": [
        "#### **Filosofia do Python - Zen of Python [Tim Peterts - 1999]**"
      ]
    },
    {
      "cell_type": "code",
      "execution_count": 9,
      "metadata": {
        "colab": {
          "base_uri": "https://localhost:8080/"
        },
        "id": "Os-bgmp3BPdh",
        "outputId": "4a53da6f-fb62-47de-c36b-c7fd79f6d314"
      },
      "outputs": [
        {
          "name": "stdout",
          "output_type": "stream",
          "text": [
            "The Zen of Python, by Tim Peters\n",
            "\n",
            "Beautiful is better than ugly.\n",
            "Explicit is better than implicit.\n",
            "Simple is better than complex.\n",
            "Complex is better than complicated.\n",
            "Flat is better than nested.\n",
            "Sparse is better than dense.\n",
            "Readability counts.\n",
            "Special cases aren't special enough to break the rules.\n",
            "Although practicality beats purity.\n",
            "Errors should never pass silently.\n",
            "Unless explicitly silenced.\n",
            "In the face of ambiguity, refuse the temptation to guess.\n",
            "There should be one-- and preferably only one --obvious way to do it.\n",
            "Although that way may not be obvious at first unless you're Dutch.\n",
            "Now is better than never.\n",
            "Although never is often better than *right* now.\n",
            "If the implementation is hard to explain, it's a bad idea.\n",
            "If the implementation is easy to explain, it may be a good idea.\n",
            "Namespaces are one honking great idea -- let's do more of those!\n"
          ]
        }
      ],
      "source": [
        "import this"
      ]
    },
    {
      "cell_type": "markdown",
      "metadata": {
        "id": "26k4O5pZDhNB"
      },
      "source": [
        "# Aula #04 - Primeiros comandos"
      ]
    },
    {
      "cell_type": "markdown",
      "metadata": {
        "id": "XTQsbWtWCHpP"
      },
      "source": [
        "##### **Texto**"
      ]
    },
    {
      "cell_type": "code",
      "execution_count": 10,
      "metadata": {
        "colab": {
          "base_uri": "https://localhost:8080/"
        },
        "id": "UNAaFJlZDrJJ",
        "outputId": "861e016b-3f2e-4b2a-ebb6-a18ac26e8d7a"
      },
      "outputs": [
        {
          "name": "stdout",
          "output_type": "stream",
          "text": [
            "Olá, Mundo!\n"
          ]
        }
      ],
      "source": [
        "print('Olá, Mundo!')"
      ]
    },
    {
      "cell_type": "markdown",
      "metadata": {
        "id": "JmY5fFwzEloh"
      },
      "source": [
        "#### **Números**"
      ]
    },
    {
      "cell_type": "code",
      "execution_count": null,
      "metadata": {
        "colab": {
          "base_uri": "https://localhost:8080/"
        },
        "id": "sn9CcAgYEvWw",
        "outputId": "c7acd749-628d-4683-bb8b-39d72399baa0"
      },
      "outputs": [
        {
          "name": "stdout",
          "output_type": "stream",
          "text": [
            "11\n"
          ]
        }
      ],
      "source": [
        "print(7+4)"
      ]
    },
    {
      "cell_type": "code",
      "execution_count": null,
      "metadata": {
        "colab": {
          "base_uri": "https://localhost:8080/"
        },
        "id": "-VTdDZKBE4kq",
        "outputId": "6a746a8d-9456-41c2-b077-74272d4b5644"
      },
      "outputs": [
        {
          "name": "stdout",
          "output_type": "stream",
          "text": [
            "74\n"
          ]
        }
      ],
      "source": [
        "print('7'+'4')"
      ]
    },
    {
      "cell_type": "markdown",
      "metadata": {
        "id": "Qc1lvkVdCZgP"
      },
      "source": [
        "#### **Print** - Interatividade"
      ]
    },
    {
      "cell_type": "markdown",
      "metadata": {
        "id": "GEX9L6aiDLZT"
      },
      "source": [
        "#### **Definições**\n",
        "##### **Print:** significa *escreva*\n",
        "##### **Input:** significa *leia*"
      ]
    },
    {
      "cell_type": "code",
      "execution_count": null,
      "metadata": {
        "id": "-5xkW3hDCff4"
      },
      "outputs": [],
      "source": [
        "nome = input('Qual é o seu nome?')\n",
        "idade = input('Quantos anos você tem?')\n",
        "peso = input('Quanto você pensa?')\n",
        "print(nome,idade,peso)"
      ]
    },
    {
      "cell_type": "markdown",
      "metadata": {
        "id": "ztpDq6Vmd2IQ"
      },
      "source": [
        "# Aula #05"
      ]
    },
    {
      "cell_type": "code",
      "execution_count": null,
      "metadata": {
        "id": "WnqHM7eyfZY9"
      },
      "outputs": [],
      "source": [
        "print('Olá mundo!')"
      ]
    },
    {
      "cell_type": "code",
      "execution_count": null,
      "metadata": {
        "id": "b8Y_R6DRffa5"
      },
      "outputs": [],
      "source": [
        "nome = input('Qual é o seu nome?')\n",
        "print ('É um grande prazer te conhecer', nome)"
      ]
    },
    {
      "cell_type": "markdown",
      "metadata": {
        "id": "qR9nV1kt8Dgx"
      },
      "source": [
        "# Aula #06"
      ]
    },
    {
      "cell_type": "markdown",
      "metadata": {
        "id": "AKWNcPbz9Ido"
      },
      "source": [
        "##### **input**\n",
        "###### - tudo o  que for digitado, tem que ser enviado para algum lugar, então criámos uma variável *(ex: 'n1' ou 'n2')* para guardar o resultado desse input, o que o utilizador irá digitar."
      ]
    },
    {
      "cell_type": "code",
      "execution_count": null,
      "metadata": {
        "id": "HPYncvOC8zlc"
      },
      "outputs": [],
      "source": [
        "n1=input('Digite um número:') # Variável\n",
        "n2=input('Digite mais número:') # Variável\n",
        "s=n1+n2 # Variável; uma operação de soma\n",
        "print('A soma vale',s) # String - 'A soma vale'; s - o valor de s\n",
        "# input - para ler o teclado\n",
        "# print - para escrever na tela"
      ]
    },
    {
      "cell_type": "markdown",
      "metadata": {
        "id": "awxQrWiPbw6h"
      },
      "source": [
        "#### **Tipos Primitivos**\n",
        "\n",
        "*   int - números inteiros (7; -4; 0; 9875)\n",
        "*   float - número reais ou números de ponto flutuante (4.5; 0.076; -15.223; 7.0)\n",
        "*   bool - valores lógicos ou boleanos (True; False)\n",
        "*   str - valores, caracteres ou strings ('Olá'; '7.5';  ' ' - string vazia)\n",
        "\n"
      ]
    },
    {
      "cell_type": "code",
      "execution_count": null,
      "metadata": {
        "id": "dy4R0HCxl6FM"
      },
      "outputs": [],
      "source": [
        "# Mostrar o tipo primitivo do valor\n",
        "n1=input('Digite um valor:')\n",
        "print(type(n1))"
      ]
    },
    {
      "cell_type": "code",
      "execution_count": null,
      "metadata": {
        "id": "xWyeiDdGmhc0"
      },
      "outputs": [],
      "source": [
        "# Converter a string para número inteiro\n",
        "n1=int(input('Digite um valor: '))\n",
        "print(type(n1))"
      ]
    },
    {
      "cell_type": "code",
      "execution_count": null,
      "metadata": {
        "id": "jxCL08BNwjrO"
      },
      "outputs": [],
      "source": [
        "# Se é numérico\n",
        "n=input('Digite algo: ')\n",
        "print(n.isnumeric())"
      ]
    },
    {
      "cell_type": "code",
      "execution_count": null,
      "metadata": {
        "id": "i4CV_y7axur1"
      },
      "outputs": [],
      "source": [
        "# Se é letra\n",
        "n=input('Digite algo: ')\n",
        "print(n.isalpha())"
      ]
    },
    {
      "cell_type": "code",
      "execution_count": null,
      "metadata": {
        "id": "hn0JSHmt0vBk"
      },
      "outputs": [],
      "source": [
        "# Se é alfanumérico\n",
        "n=input('Digite algo: ')\n",
        "print(n.isalnum())"
      ]
    },
    {
      "cell_type": "code",
      "execution_count": null,
      "metadata": {
        "id": "6zxLNhxG1CN-"
      },
      "outputs": [],
      "source": [
        "# Se tem somente letras maiúsculas\n",
        "n=input('Digite algo: ')\n",
        "print(n.isupper())"
      ]
    },
    {
      "cell_type": "code",
      "execution_count": null,
      "metadata": {
        "id": "250_i1uv1UO-"
      },
      "outputs": [],
      "source": [
        "# Se tem somente letras minusculas\n",
        "n=input('Digite algo: ')\n",
        "print(n.islower())"
      ]
    },
    {
      "cell_type": "code",
      "execution_count": null,
      "metadata": {
        "id": "D7S_EcS31eY-"
      },
      "outputs": [],
      "source": [
        "# Se pode ser impresso\n",
        "n=input('Digite algo: ')\n",
        "print(n.isprintable())"
      ]
    },
    {
      "cell_type": "markdown",
      "metadata": {
        "id": "mNO1atoRhmFR"
      },
      "source": [
        "#### **Forma diferente do print**\n"
      ]
    },
    {
      "cell_type": "markdown",
      "metadata": {
        "id": "hvdK2CUOig71"
      },
      "source": [
        "```\n",
        "print('A soma vale {}'.format(s))\n",
        "```\n",
        "É uma sintaxe nova aplicada a partir do Python 3. \n",
        "{} - é uma máscara que vai ser subtituida por um método da própria string. *É uma espécie de marcador de lugar que indica onde um valor deve ser inserido na string.*\n",
        ".format - é mais flexível, permitindo que personalize a forma como a string é formatada\n"
      ]
    },
    {
      "cell_type": "code",
      "execution_count": null,
      "metadata": {
        "id": "HH9tKn1xm6TX"
      },
      "outputs": [],
      "source": [
        "# Com as string convertidas para números, vai ser possivel fazer a soma. Sem o 'int' irá apenas juntar os números, porque são strings.\n",
        "n1=int(input('Digite um valor: '))\n",
        "n2=int(input('Digite um valor: '))\n",
        "s=n1+n2\n",
        "print('A soma vale',s)"
      ]
    },
    {
      "cell_type": "code",
      "execution_count": null,
      "metadata": {
        "id": "BmcYoFVfuh2-"
      },
      "outputs": [],
      "source": [
        "n1=int(input('Digite um valor: '))\n",
        "n2=int(input('Digite outro: '))\n",
        "s=n1+n2\n",
        "# print('A soma entre ', n1, 'e', n2, 'vale', s)\n",
        "print('A soma entre {} e {} vale {}'.format(n1, n2, s))"
      ]
    }
  ],
  "metadata": {
    "colab": {
      "authorship_tag": "ABX9TyO9HebP1d4k5lVn8nNZb2Bm",
      "include_colab_link": true,
      "provenance": [],
      "toc_visible": true
    },
    "kernelspec": {
      "display_name": "Python 3",
      "name": "python3"
    },
    "language_info": {
      "name": "python"
    }
  },
  "nbformat": 4,
  "nbformat_minor": 0
}
