{
  "nbformat": 4,
  "nbformat_minor": 0,
  "metadata": {
    "colab": {
      "provenance": [],
      "collapsed_sections": [
        "QWrQZdK5QO1C",
        "hV-0un8wQvLO",
        "3gWOZvo6BRJ_",
        "26k4O5pZDhNB",
        "JmY5fFwzEloh",
        "ztpDq6Vmd2IQ"
      ],
      "toc_visible": true,
      "authorship_tag": "ABX9TyNdV3DKRWOmpCb85ZfuiyLF",
      "include_colab_link": true
    },
    "kernelspec": {
      "name": "python3",
      "display_name": "Python 3"
    },
    "language_info": {
      "name": "python"
    }
  },
  "cells": [
    {
      "cell_type": "markdown",
      "metadata": {
        "id": "view-in-github",
        "colab_type": "text"
      },
      "source": [
        "<a href=\"https://colab.research.google.com/github/liatsuki/pythonproject/blob/master/aulas_python.ipynb\" target=\"_parent\"><img src=\"https://colab.research.google.com/assets/colab-badge.svg\" alt=\"Open In Colab\"/></a>"
      ]
    },
    {
      "cell_type": "markdown",
      "source": [
        "# Aula #02 - Geral\n"
      ],
      "metadata": {
        "id": "QWrQZdK5QO1C"
      }
    },
    {
      "cell_type": "markdown",
      "source": [
        "#### **Informações Gerais**\n",
        "##### **Criado:** 1982 \n",
        "##### **por:** Guido Van Hossum\n",
        "##### **História:** em 1989 quando estava a tentar adaptar um programa em linguagem C, então criou uma linguagem para resolver o problema. Dai surgiu a proposta da criação da linguagem Python.\n",
        "##### **Objectivo:** criar uma linguagem de programação que fosse interpretado, mas que tivesse comandos simples, fáceis de entender, porque segundo o criador a linguagem em C eram comandos grandes, complicados de entender, apenas os programadores experientes eram capazes de entender certos programas em C. O objectivo era criar comandos simples de fácil de compreender.\n",
        "##### **Nome:** inspirado em *Monty Python's Flying*"
      ],
      "metadata": {
        "id": "hV-0un8wQvLO"
      }
    },
    {
      "cell_type": "markdown",
      "source": [
        "**Python é:**\n",
        "* Linguagem de propósito geral - dá pra usar a linguagem no geral\n",
        "* Fácil e intuitivo - comandos simples\n",
        "* Multiplataforma - dá pra usar em vários sistemas\n",
        "* Batterias included\n",
        "* Livre - código aberto\n",
        "* Organizada\n",
        "* Orientada a objectos - tudo dentro do python é um objecto\n",
        "* Muitas bibliotecas"
      ],
      "metadata": {
        "id": "bsisDmrV-YoG"
      }
    },
    {
      "cell_type": "markdown",
      "source": [
        "#### **Filosofia do Python - Zen of Python [Tim Peterts - 1999]**"
      ],
      "metadata": {
        "id": "3gWOZvo6BRJ_"
      }
    },
    {
      "cell_type": "code",
      "source": [
        "import this"
      ],
      "metadata": {
        "colab": {
          "base_uri": "https://localhost:8080/"
        },
        "id": "Os-bgmp3BPdh",
        "outputId": "24e21fdd-332d-49ff-8c88-ef101641e419"
      },
      "execution_count": null,
      "outputs": [
        {
          "output_type": "stream",
          "name": "stdout",
          "text": [
            "The Zen of Python, by Tim Peters\n",
            "\n",
            "Beautiful is better than ugly.\n",
            "Explicit is better than implicit.\n",
            "Simple is better than complex.\n",
            "Complex is better than complicated.\n",
            "Flat is better than nested.\n",
            "Sparse is better than dense.\n",
            "Readability counts.\n",
            "Special cases aren't special enough to break the rules.\n",
            "Although practicality beats purity.\n",
            "Errors should never pass silently.\n",
            "Unless explicitly silenced.\n",
            "In the face of ambiguity, refuse the temptation to guess.\n",
            "There should be one-- and preferably only one --obvious way to do it.\n",
            "Although that way may not be obvious at first unless you're Dutch.\n",
            "Now is better than never.\n",
            "Although never is often better than *right* now.\n",
            "If the implementation is hard to explain, it's a bad idea.\n",
            "If the implementation is easy to explain, it may be a good idea.\n",
            "Namespaces are one honking great idea -- let's do more of those!\n"
          ]
        }
      ]
    },
    {
      "cell_type": "markdown",
      "source": [
        "# Aula #04 - Primeiros comandos"
      ],
      "metadata": {
        "id": "26k4O5pZDhNB"
      }
    },
    {
      "cell_type": "markdown",
      "source": [
        "##### **Texto**"
      ],
      "metadata": {
        "id": "XTQsbWtWCHpP"
      }
    },
    {
      "cell_type": "code",
      "source": [
        "print('Olá, Mundo!')"
      ],
      "metadata": {
        "colab": {
          "base_uri": "https://localhost:8080/"
        },
        "id": "UNAaFJlZDrJJ",
        "outputId": "9453afa9-5180-4ee8-aeda-62b95330ef9f"
      },
      "execution_count": null,
      "outputs": [
        {
          "output_type": "stream",
          "name": "stdout",
          "text": [
            "Olá, Mundo!\n"
          ]
        }
      ]
    },
    {
      "cell_type": "markdown",
      "source": [
        "#### **Números**"
      ],
      "metadata": {
        "id": "JmY5fFwzEloh"
      }
    },
    {
      "cell_type": "code",
      "source": [
        "print(7+4)"
      ],
      "metadata": {
        "colab": {
          "base_uri": "https://localhost:8080/"
        },
        "id": "sn9CcAgYEvWw",
        "outputId": "c7acd749-628d-4683-bb8b-39d72399baa0"
      },
      "execution_count": null,
      "outputs": [
        {
          "output_type": "stream",
          "name": "stdout",
          "text": [
            "11\n"
          ]
        }
      ]
    },
    {
      "cell_type": "code",
      "source": [
        "print('7'+'4')"
      ],
      "metadata": {
        "colab": {
          "base_uri": "https://localhost:8080/"
        },
        "id": "-VTdDZKBE4kq",
        "outputId": "6a746a8d-9456-41c2-b077-74272d4b5644"
      },
      "execution_count": null,
      "outputs": [
        {
          "output_type": "stream",
          "name": "stdout",
          "text": [
            "74\n"
          ]
        }
      ]
    },
    {
      "cell_type": "markdown",
      "source": [
        "#### **Print** - Interatividade"
      ],
      "metadata": {
        "id": "Qc1lvkVdCZgP"
      }
    },
    {
      "cell_type": "markdown",
      "source": [
        "#### **Definições**\n",
        "##### **Print:** significa *escreva*\n",
        "##### **Input:** significa *leia*"
      ],
      "metadata": {
        "id": "GEX9L6aiDLZT"
      }
    },
    {
      "cell_type": "code",
      "source": [
        "nome = input('Qual é o seu nome?')\n",
        "idade = input('Quantos anos você tem?')\n",
        "peso = input('Quanto você pensa?')\n",
        "print(nome,idade,peso)"
      ],
      "metadata": {
        "colab": {
          "base_uri": "https://localhost:8080/"
        },
        "id": "-5xkW3hDCff4",
        "outputId": "4e4ad481-0dc9-4fd7-9d4d-bd3ddaa32819"
      },
      "execution_count": null,
      "outputs": [
        {
          "output_type": "stream",
          "name": "stdout",
          "text": [
            "Qual é o seu nome?Maria\n",
            "Quantos anos você tem?89\n",
            "Quanto você pensa?56\n",
            "Maria 89 56\n"
          ]
        }
      ]
    },
    {
      "cell_type": "markdown",
      "source": [
        "# Aula #05"
      ],
      "metadata": {
        "id": "ztpDq6Vmd2IQ"
      }
    },
    {
      "cell_type": "code",
      "source": [
        "print('Olá mundo!')"
      ],
      "metadata": {
        "id": "WnqHM7eyfZY9"
      },
      "execution_count": null,
      "outputs": []
    },
    {
      "cell_type": "code",
      "source": [
        "nome = input('Qual é o seu nome?')\n",
        "print ('É um grande prazer te conhecer', nome)"
      ],
      "metadata": {
        "id": "b8Y_R6DRffa5"
      },
      "execution_count": null,
      "outputs": []
    },
    {
      "cell_type": "markdown",
      "source": [
        "# Aula #06"
      ],
      "metadata": {
        "id": "qR9nV1kt8Dgx"
      }
    },
    {
      "cell_type": "markdown",
      "source": [
        "##### **input**\n",
        "###### - tudo o  que for digitado, tem que ser enviado para algum lugar, então criámos uma variável *(ex: 'n1' ou 'n2')* para guardar o resultado desse input, o que o utilizador irá digitar."
      ],
      "metadata": {
        "id": "AKWNcPbz9Ido"
      }
    },
    {
      "cell_type": "code",
      "source": [
        "n1=input('Digite um número:') # Variável\n",
        "n2=input('Digite mais número:') # Variável\n",
        "s=n1+n2 # Variável; uma operação de soma\n",
        "print('A soma vale',s) # String - 'A soma vale'; s - o valor de s\n",
        "# input - para ler o teclado\n",
        "# print - para escrever na tela"
      ],
      "metadata": {
        "id": "HPYncvOC8zlc"
      },
      "execution_count": null,
      "outputs": []
    },
    {
      "cell_type": "markdown",
      "source": [
        "#### **Tipos Primitivos**\n",
        "\n",
        "*   int - números inteiros (7; -4; 0; 9875)\n",
        "*   float - número reais ou números de ponto flutuante (4.5; 0.076; -15.223; 7.0)\n",
        "*   bool - valores lógicos ou boleanos (True; False)\n",
        "*   str - valores, caracteres ou strings ('Olá'; '7.5';  ' ' - string vazia)\n",
        "\n"
      ],
      "metadata": {
        "id": "awxQrWiPbw6h"
      }
    },
    {
      "cell_type": "code",
      "source": [
        "# Mostrar o tipo primitivo do valor\n",
        "n1=input('Digite um valor:')\n",
        "print(type(n1))"
      ],
      "metadata": {
        "colab": {
          "base_uri": "https://localhost:8080/"
        },
        "id": "dy4R0HCxl6FM",
        "outputId": "360079d9-bd8b-47bf-b137-1c90e044c1aa"
      },
      "execution_count": 3,
      "outputs": [
        {
          "output_type": "stream",
          "name": "stdout",
          "text": [
            "Digite um valor:5\n",
            "<class 'str'>\n"
          ]
        }
      ]
    },
    {
      "cell_type": "code",
      "source": [
        "# Converter a string para número inteiro\n",
        "n1=int(input('Digite um valor: '))\n",
        "print(type(n1))"
      ],
      "metadata": {
        "colab": {
          "base_uri": "https://localhost:8080/"
        },
        "id": "xWyeiDdGmhc0",
        "outputId": "31d1df03-7118-452b-9c05-7634bd6d1ac4"
      },
      "execution_count": 4,
      "outputs": [
        {
          "output_type": "stream",
          "name": "stdout",
          "text": [
            "Digite um valor: 5\n",
            "<class 'int'>\n"
          ]
        }
      ]
    },
    {
      "cell_type": "code",
      "source": [
        "# Se é numérico\n",
        "n=input('Digite algo: ')\n",
        "print(n.isnumeric())"
      ],
      "metadata": {
        "colab": {
          "base_uri": "https://localhost:8080/"
        },
        "id": "jxCL08BNwjrO",
        "outputId": "bd6d6a6b-f6ce-4700-fadd-bc4c999eb931"
      },
      "execution_count": 7,
      "outputs": [
        {
          "output_type": "stream",
          "name": "stdout",
          "text": [
            "Digite algo: 2\n",
            "True\n"
          ]
        }
      ]
    },
    {
      "cell_type": "markdown",
      "source": [
        "#### **Forma diferente do print**\n"
      ],
      "metadata": {
        "id": "mNO1atoRhmFR"
      }
    },
    {
      "cell_type": "markdown",
      "source": [
        "```\n",
        "print('A soma vale {}'.format(s))\n",
        "```\n",
        "É uma sintaxe nova aplicada a partir do Python 3. \n",
        "{} - é uma máscara que vai ser subtituida por um método da própria string. *É uma espécie de marcador de lugar que indica onde um valor deve ser inserido na string.*\n",
        ".format - é mais flexível, permitindo que personalize a forma como a string é formatada\n"
      ],
      "metadata": {
        "id": "hvdK2CUOig71"
      }
    },
    {
      "cell_type": "code",
      "source": [
        "# Com as string convertidas para números, vai ser possivel fazer a soma. Sem o 'int' irá apenas juntar os números, porque são strings.\n",
        "n1=int(input('Digite um valor: '))\n",
        "n2=int(input('Digite um valor: '))\n",
        "s=n1+n2\n",
        "print('A soma vale',s)"
      ],
      "metadata": {
        "colab": {
          "base_uri": "https://localhost:8080/"
        },
        "id": "HH9tKn1xm6TX",
        "outputId": "93f1c8b1-5ff1-48a4-f474-96edf86aec8f"
      },
      "execution_count": 5,
      "outputs": [
        {
          "output_type": "stream",
          "name": "stdout",
          "text": [
            "Digite um valor: 5\n",
            "Digite um valor: 5\n",
            "A soma vale 10\n"
          ]
        }
      ]
    },
    {
      "cell_type": "code",
      "source": [
        "n1=int(input('Digite um valor: '))\n",
        "n2=int(input('Digite outro: '))\n",
        "s=n1+n2\n",
        "# print('A soma entre ', n1, 'e', n2, 'vale', s)\n",
        "print('A soma entre {} e {} vale {}'.format(n1, n2, s))"
      ],
      "metadata": {
        "colab": {
          "base_uri": "https://localhost:8080/"
        },
        "id": "BmcYoFVfuh2-",
        "outputId": "afa5d7a3-a868-4169-9a58-aebdb9a8962f"
      },
      "execution_count": 6,
      "outputs": [
        {
          "output_type": "stream",
          "name": "stdout",
          "text": [
            "Digite um valor: 5\n",
            "Digite outro: 5\n",
            "A soma entre  5 e 5 vale 10\n"
          ]
        }
      ]
    }
  ]
}